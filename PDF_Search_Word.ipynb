{
 "cells": [
  {
   "cell_type": "code",
   "execution_count": 2,
   "id": "9aaef251",
   "metadata": {},
   "outputs": [
    {
     "name": "stdout",
     "output_type": "stream",
     "text": [
      "Collecting PyPDF2\n",
      "  Downloading PyPDF2-1.26.0.tar.gz (77 kB)\n",
      "Building wheels for collected packages: PyPDF2\n",
      "  Building wheel for PyPDF2 (setup.py): started\n",
      "  Building wheel for PyPDF2 (setup.py): finished with status 'done'\n",
      "  Created wheel for PyPDF2: filename=PyPDF2-1.26.0-py3-none-any.whl size=61085 sha256=54a9332d448df42c11c27f2e658a00259507275ebc755ad5cb486a021f0f6c68\n",
      "Note: you may need to restart the kernel to use updated packages.\n",
      "  Stored in directory: c:\\users\\user\\appdata\\local\\pip\\cache\\wheels\\b1\\1a\\8f\\a4c34be976825a2f7948d0fa40907598d69834f8ab5889de11\n",
      "Successfully built PyPDF2\n",
      "Installing collected packages: PyPDF2\n",
      "Successfully installed PyPDF2-1.26.0\n"
     ]
    }
   ],
   "source": [
    "pip install PyPDF2"
   ]
  },
  {
   "cell_type": "code",
   "execution_count": 5,
   "id": "fc2fd6cf",
   "metadata": {},
   "outputs": [
    {
     "name": "stdout",
     "output_type": "stream",
     "text": [
      "this is page 0\n",
      "<re.Match object; span=(128, 134), match='search'>\n",
      "this is page 1\n",
      "<re.Match object; span=(108, 114), match='search'>\n"
     ]
    }
   ],
   "source": [
    "import PyPDF2\n",
    "import re\n",
    "\n",
    "# open the pdf file\n",
    "object = PyPDF2.PdfFileReader(\"SEO.pdf\")\n",
    "\n",
    "# get number of pages\n",
    "NumPages = object.getNumPages()\n",
    "\n",
    "# define keyterms\n",
    "String = \"search\"\n",
    "\n",
    "# extract text and do the search\n",
    "for i in range(0, NumPages):\n",
    "    PageObj = object.getPage(i)\n",
    "    print(\"this is page \" + str(i)) \n",
    "    Text = PageObj.extractText() \n",
    "    # print(Text)\n",
    "    ResSearch = re.search(String, Text)\n",
    "    print(ResSearch)"
   ]
  },
  {
   "cell_type": "code",
   "execution_count": 6,
   "id": "0442f971",
   "metadata": {},
   "outputs": [
    {
     "name": "stdout",
     "output_type": "stream",
     "text": [
      "<PyPDF2.pdf.PdfFileReader object at 0x00000251235BA430>\n"
     ]
    }
   ],
   "source": [
    "pdfFileObj= PyPDF2.PdfFileReader(\"SEO.pdf\")\n",
    "print(pdfFileObj)"
   ]
  },
  {
   "cell_type": "code",
   "execution_count": 7,
   "id": "db6f8ac8",
   "metadata": {},
   "outputs": [],
   "source": [
    "pageObj=pdfFileObj.getPage(0)"
   ]
  },
  {
   "cell_type": "code",
   "execution_count": 10,
   "id": "b321be82",
   "metadata": {},
   "outputs": [],
   "source": [
    "text=pageObj.extractText()\n",
    "text=text.split(\",\")"
   ]
  },
  {
   "cell_type": "code",
   "execution_count": 11,
   "id": "2cfb17ed",
   "metadata": {},
   "outputs": [
    {
     "data": {
      "text/plain": [
       "[' \\n \\nREQUIREMENTS FOR SMART SEARCH ENGINE: \\n \\nSmart Search bar functions:   \\n \\no\\n \\nPredictive keywords \\n\\n \\nsuggestions\\n \\n\\n \\nAuto search of mis\\n-\\nspelled words from data set: Did you mean this (like in Google search)\\n-\\n                \\n         \\no Most opened documents on top in search results\\n \\n\\n \\nOCR ',\n",
       " ' to search typed keyword from image files.\\n \\n \\n \\n \\nResults of search to be shown like:  \\n \\no\\n \\nNumber of times key \\nword has been used in each document. \\n \\no\\n \\nLink for mother document (when clicked it takes you to the following part of the \\nrespective document ) \\n \\no\\n \\nType of file (MS',\n",
       " ' PDF etc.)',\n",
       " ' link of folder having the document',\n",
       " ' date created',\n",
       " ' date \\nmodified',\n",
       " ' date uploaded',\n",
       " ' file \\nsize. \\n \\no\\n \\nShow other filters results when the filter is applied. \\no\\n \\nOption on search engine to open the \\nresults in WORD file format',\n",
       " ' just like on search engine. \\n \\n \\n \\n \\n \\n  \\n \\n \\n \\n \\n \\n \\n \\n  \\n \\n \\n \\nFilters on GUI search engine in advance search category: \\n  \\n \\n']"
      ]
     },
     "execution_count": 11,
     "metadata": {},
     "output_type": "execute_result"
    }
   ],
   "source": [
    "text"
   ]
  },
  {
   "cell_type": "code",
   "execution_count": 12,
   "id": "167e2668",
   "metadata": {},
   "outputs": [],
   "source": [
    "search_keywords=['search','engine']"
   ]
  },
  {
   "cell_type": "code",
   "execution_count": 14,
   "id": "39f851d1",
   "metadata": {},
   "outputs": [
    {
     "name": "stdout",
     "output_type": "stream",
     "text": [
      "1 key word(s) in sentence: search\n",
      "engine\n",
      "\n",
      "1 key word(s) in sentence: search\n",
      "engine\n",
      "\n",
      "0 key word(s) in sentence: \n",
      "engine\n",
      "\n",
      "0 key word(s) in sentence: \n",
      "engine\n",
      "\n",
      "0 key word(s) in sentence: \n",
      "engine\n",
      "\n",
      "0 key word(s) in sentence: \n",
      "engine\n",
      "\n",
      "0 key word(s) in sentence: \n",
      "engine\n",
      "\n",
      "2 key word(s) in sentence: search, engine\n",
      "engine\n",
      "\n",
      "2 key word(s) in sentence: search, engine\n",
      "engine\n",
      "\n"
     ]
    }
   ],
   "source": [
    "for text in text:\n",
    "    lst = []\n",
    "    for word in search_keywords:\n",
    "        if word in text:\n",
    "            lst.append(word)\n",
    "    print('{0} key word(s) in sentence: {1}'.format(len(lst), ', '.join(lst)))\n",
    "    print(word + \"\\n\")"
   ]
  },
  {
   "cell_type": "code",
   "execution_count": null,
   "id": "62da4dd9",
   "metadata": {},
   "outputs": [],
   "source": []
  }
 ],
 "metadata": {
  "kernelspec": {
   "display_name": "Python 3",
   "language": "python",
   "name": "python3"
  },
  "language_info": {
   "codemirror_mode": {
    "name": "ipython",
    "version": 3
   },
   "file_extension": ".py",
   "mimetype": "text/x-python",
   "name": "python",
   "nbconvert_exporter": "python",
   "pygments_lexer": "ipython3",
   "version": "3.8.8"
  }
 },
 "nbformat": 4,
 "nbformat_minor": 5
}
