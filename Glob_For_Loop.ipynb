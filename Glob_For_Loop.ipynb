{
 "cells": [
  {
   "cell_type": "code",
   "execution_count": 34,
   "id": "61450e7b",
   "metadata": {},
   "outputs": [
    {
     "name": "stdout",
     "output_type": "stream",
     "text": [
      "Searching PDF Files:\n",
      "D:/Random_PDFs\\MedCity_AIeBook_MCM146_R1.pdf\n",
      "The file is not there\n",
      "D:/Random_PDFs\\Report 6 July.pdf\n",
      "The file is not there\n",
      "D:/Random_PDFs\\Report.pdf\n",
      "The file is there\n",
      "D:/Random_PDFs\\Report_Detail_Metrics.pdf\n",
      "The file is not there\n",
      "D:/Random_PDFs\\SEO Project.pdf\n",
      "The file is not there\n"
     ]
    }
   ],
   "source": [
    "import glob\n",
    "  \n",
    "names=[]  \n",
    "print('Searching PDF Files:')\n",
    "for name in glob.glob('D:/Random_PDFs/*.pdf', recursive = True):\n",
    "    print(name)\n",
    "    names.append(name)\n",
    "    if name=='D:/Random_PDFs\\Report.pdf':\n",
    "        print('The file is there')\n",
    "    else:\n",
    "        print('The file is not there')\n",
    "      \n",
    "\n"
   ]
  },
  {
   "cell_type": "code",
   "execution_count": null,
   "id": "d15acaf5",
   "metadata": {},
   "outputs": [],
   "source": [
    "import PyPDF2\n",
    "pdfFileObj = open('Merged_Files.pdf', 'rb')\n",
    "pdfReader = PyPDF2.PdfFileReader(pdfFileObj, strict=False)\n",
    "\n",
    "search_word = \"sales\"\n",
    "search_word_count = 0\n",
    "\n",
    "for pageNum in range(0, pdfReader.numPages):\n",
    "    pageObj = pdfReader.getPage(pageNum)\n",
    "    text = pageObj.extractText().encode('utf-8')\n",
    "    search_text = text.lower().split()\n",
    "    for word in search_text:\n",
    "        if search_word in word.decode(\"utf-8\"):\n",
    "            search_word_count += 1\n",
    "        \n",
    "print(\"The word {} was found {} times\".format(search_word, search_word_count))"
   ]
  },
  {
   "cell_type": "code",
   "execution_count": 32,
   "id": "e0b54675",
   "metadata": {},
   "outputs": [
    {
     "name": "stdout",
     "output_type": "stream",
     "text": [
      "Using glob.glob()\n",
      "D:/Random_PDFs\\MedCity_AIeBook_MCM146_R1.pdf\n",
      "D:/Random_PDFs\\Report 6 July.pdf\n",
      "D:/Random_PDFs\\Report.pdf\n",
      "D:/Random_PDFs\\Report_Detail_Metrics.pdf\n",
      "D:/Random_PDFs\\SEO Project.pdf\n"
     ]
    }
   ],
   "source": [
    "print(\"Using glob.glob()\")\n",
    "names1=[]\n",
    "for filename in glob.glob('D:/Random_PDFs/*.pdf*',\n",
    "                           recursive = True):\n",
    "    print(filename)\n",
    "    names1.append(filename)"
   ]
  },
  {
   "cell_type": "code",
   "execution_count": null,
   "id": "51c6f6e8",
   "metadata": {},
   "outputs": [],
   "source": []
  }
 ],
 "metadata": {
  "kernelspec": {
   "display_name": "Python 3",
   "language": "python",
   "name": "python3"
  },
  "language_info": {
   "codemirror_mode": {
    "name": "ipython",
    "version": 3
   },
   "file_extension": ".py",
   "mimetype": "text/x-python",
   "name": "python",
   "nbconvert_exporter": "python",
   "pygments_lexer": "ipython3",
   "version": "3.8.8"
  }
 },
 "nbformat": 4,
 "nbformat_minor": 5
}
